{
 "cells": [
  {
   "cell_type": "code",
   "execution_count": 1,
   "id": "284095de",
   "metadata": {
    "_cell_guid": "b1076dfc-b9ad-4769-8c92-a6c4dae69d19",
    "_uuid": "8f2839f25d086af736a60e9eeb907d3b93b6e0e5",
    "execution": {
     "iopub.execute_input": "2022-01-26T10:10:01.789661Z",
     "iopub.status.busy": "2022-01-26T10:10:01.785079Z",
     "iopub.status.idle": "2022-01-26T10:10:02.842571Z",
     "shell.execute_reply": "2022-01-26T10:10:02.841580Z",
     "shell.execute_reply.started": "2022-01-26T08:39:03.480926Z"
    },
    "papermill": {
     "duration": 1.102709,
     "end_time": "2022-01-26T10:10:02.842766",
     "exception": false,
     "start_time": "2022-01-26T10:10:01.740057",
     "status": "completed"
    },
    "tags": []
   },
   "outputs": [
    {
     "name": "stdout",
     "output_type": "stream",
     "text": [
      "/kaggle/input/heart-disease-uci/heart.csv\n"
     ]
    }
   ],
   "source": [
    "# This Python 3 environment comes with many helpful analytics libraries installed\n",
    "# It is defined by the kaggle/python Docker image: https://github.com/kaggle/docker-python\n",
    "# For example, here's several helpful packages to load\n",
    "\n",
    "import numpy as np # linear algebra\n",
    "import pandas as pd # data processing, CSV file I/O (e.g. pd.read_csv)\n",
    "import seaborn as sns\n",
    "\n",
    "from datetime import datetime\n",
    "import matplotlib.pyplot as plt\n",
    "import missingno as msno\n",
    "%matplotlib inline\n",
    "\n",
    "# Input data files are available in the read-only \"../input/\" directory\n",
    "# For example, running this (by clicking run or pressing Shift+Enter) will list all files under the input directory\n",
    "\n",
    "import os\n",
    "for dirname, _, filenames in os.walk('/kaggle/input'):\n",
    "    for filename in filenames:\n",
    "        print(os.path.join(dirname, filename))\n",
    "\n",
    "# You can write up to 20GB to the current directory (/kaggle/working/) that gets preserved as output when you create a version using \"Save & Run All\" \n",
    "# You can also write temporary files to /kaggle/temp/, but they won't be saved outside of the current session"
   ]
  },
  {
   "cell_type": "code",
   "execution_count": null,
   "id": "06a70994",
   "metadata": {
    "papermill": {
     "duration": 0.033632,
     "end_time": "2022-01-26T10:10:02.911106",
     "exception": false,
     "start_time": "2022-01-26T10:10:02.877474",
     "status": "completed"
    },
    "tags": []
   },
   "outputs": [],
   "source": []
  },
  {
   "cell_type": "markdown",
   "id": "014430b9",
   "metadata": {
    "papermill": {
     "duration": 0.033607,
     "end_time": "2022-01-26T10:10:02.978600",
     "exception": false,
     "start_time": "2022-01-26T10:10:02.944993",
     "status": "completed"
    },
    "tags": []
   },
   "source": [
    "## Importing the Dependencies\n",
    "\n",
    "-----------------------"
   ]
  },
  {
   "cell_type": "code",
   "execution_count": 2,
   "id": "d2dcea65",
   "metadata": {
    "execution": {
     "iopub.execute_input": "2022-01-26T10:10:03.052699Z",
     "iopub.status.busy": "2022-01-26T10:10:03.052028Z",
     "iopub.status.idle": "2022-01-26T10:10:03.306080Z",
     "shell.execute_reply": "2022-01-26T10:10:03.306615Z",
     "shell.execute_reply.started": "2022-01-26T09:23:00.387652Z"
    },
    "papermill": {
     "duration": 0.293821,
     "end_time": "2022-01-26T10:10:03.306827",
     "exception": false,
     "start_time": "2022-01-26T10:10:03.013006",
     "status": "completed"
    },
    "tags": []
   },
   "outputs": [],
   "source": [
    "import sklearn as sk\n",
    "from scipy import stats\n",
    "from sklearn.model_selection import train_test_split\n",
    "from sklearn.linear_model import LinearRegression\n",
    "from sklearn.metrics import accuracy_score\n",
    "from sklearn.metrics import mean_absolute_error"
   ]
  },
  {
   "cell_type": "code",
   "execution_count": 3,
   "id": "65b347ad",
   "metadata": {
    "execution": {
     "iopub.execute_input": "2022-01-26T10:10:03.391585Z",
     "iopub.status.busy": "2022-01-26T10:10:03.390955Z",
     "iopub.status.idle": "2022-01-26T10:10:03.395625Z",
     "shell.execute_reply": "2022-01-26T10:10:03.396176Z",
     "shell.execute_reply.started": "2022-01-26T09:37:40.133184Z"
    },
    "papermill": {
     "duration": 0.047269,
     "end_time": "2022-01-26T10:10:03.396342",
     "exception": false,
     "start_time": "2022-01-26T10:10:03.349073",
     "status": "completed"
    },
    "tags": []
   },
   "outputs": [],
   "source": [
    "from sklearn.linear_model import LogisticRegression"
   ]
  },
  {
   "cell_type": "markdown",
   "id": "c8e9afac",
   "metadata": {
    "papermill": {
     "duration": 0.051353,
     "end_time": "2022-01-26T10:10:03.486430",
     "exception": false,
     "start_time": "2022-01-26T10:10:03.435077",
     "status": "completed"
    },
    "tags": []
   },
   "source": [
    "# Heart_Rate_Prediction\n",
    "\n",
    "----------------------------------------------"
   ]
  },
  {
   "cell_type": "markdown",
   "id": "4245d2cc",
   "metadata": {
    "papermill": {
     "duration": 0.0388,
     "end_time": "2022-01-26T10:10:03.578150",
     "exception": false,
     "start_time": "2022-01-26T10:10:03.539350",
     "status": "completed"
    },
    "tags": []
   },
   "source": [
    "## Introduction\n",
    "---------------------\n",
    "\n",
    "1. This database contains 76 attributes, but all published experiments refer to using a subset of 14 of them. \n",
    "2. In particular, the Cleveland database is the only one that has been used by ML researchers to  this date. \n",
    "3. The \"goal\" field refers to the presence of heart disease in the patient. It is integer valued from 0 (no presence) to 4."
   ]
  },
  {
   "cell_type": "markdown",
   "id": "23a3f491",
   "metadata": {
    "papermill": {
     "duration": 0.033333,
     "end_time": "2022-01-26T10:10:03.648577",
     "exception": false,
     "start_time": "2022-01-26T10:10:03.615244",
     "status": "completed"
    },
    "tags": []
   },
   "source": [
    "## Feature Information\n",
    "\n",
    "-------------------------------\n",
    "\n",
    "1. age\n",
    "2. sex\n",
    "3. cp -> chest pain type (4 values)\n",
    "4. trestbps -> resting blood pressure\n",
    "5. chol-> serum cholestoral in mg/dl\n",
    "6. fbs -> fasting blood sugar > 120 mg/dl\n",
    "7. restcg -> resting electrocardiographic results (values 0,1,2)\n",
    "8. thalach -> maximum heart rate achieved\n",
    "9. exang -> exercise induced angina\n",
    "10. oldpeak  -> ST depression induced by exercise relative to rest\n",
    "11. slope -> the slope of the peak exercise ST segment\n",
    "12. ca -> number of major vessels (0-3) colored by flourosopy\n",
    "13. thal: 3 = normal; 6 = fixed defect; 7 = reversable defect"
   ]
  },
  {
   "cell_type": "code",
   "execution_count": null,
   "id": "a5a20072",
   "metadata": {
    "papermill": {
     "duration": 0.035151,
     "end_time": "2022-01-26T10:10:03.722675",
     "exception": false,
     "start_time": "2022-01-26T10:10:03.687524",
     "status": "completed"
    },
    "tags": []
   },
   "outputs": [],
   "source": []
  },
  {
   "cell_type": "markdown",
   "id": "b88507ab",
   "metadata": {
    "papermill": {
     "duration": 0.03273,
     "end_time": "2022-01-26T10:10:03.788394",
     "exception": false,
     "start_time": "2022-01-26T10:10:03.755664",
     "status": "completed"
    },
    "tags": []
   },
   "source": [
    "## Data Colection and Pre-Processing\n",
    "\n",
    "----------------------------"
   ]
  },
  {
   "cell_type": "code",
   "execution_count": 4,
   "id": "f00eb5f9",
   "metadata": {
    "execution": {
     "iopub.execute_input": "2022-01-26T10:10:03.859733Z",
     "iopub.status.busy": "2022-01-26T10:10:03.858893Z",
     "iopub.status.idle": "2022-01-26T10:10:03.891213Z",
     "shell.execute_reply": "2022-01-26T10:10:03.891769Z",
     "shell.execute_reply.started": "2022-01-26T09:46:44.350335Z"
    },
    "papermill": {
     "duration": 0.070512,
     "end_time": "2022-01-26T10:10:03.891946",
     "exception": false,
     "start_time": "2022-01-26T10:10:03.821434",
     "status": "completed"
    },
    "tags": []
   },
   "outputs": [
    {
     "data": {
      "text/html": [
       "<div>\n",
       "<style scoped>\n",
       "    .dataframe tbody tr th:only-of-type {\n",
       "        vertical-align: middle;\n",
       "    }\n",
       "\n",
       "    .dataframe tbody tr th {\n",
       "        vertical-align: top;\n",
       "    }\n",
       "\n",
       "    .dataframe thead th {\n",
       "        text-align: right;\n",
       "    }\n",
       "</style>\n",
       "<table border=\"1\" class=\"dataframe\">\n",
       "  <thead>\n",
       "    <tr style=\"text-align: right;\">\n",
       "      <th></th>\n",
       "      <th>age</th>\n",
       "      <th>sex</th>\n",
       "      <th>cp</th>\n",
       "      <th>trestbps</th>\n",
       "      <th>chol</th>\n",
       "      <th>fbs</th>\n",
       "      <th>restecg</th>\n",
       "      <th>thalach</th>\n",
       "      <th>exang</th>\n",
       "      <th>oldpeak</th>\n",
       "      <th>slope</th>\n",
       "      <th>ca</th>\n",
       "      <th>thal</th>\n",
       "      <th>target</th>\n",
       "    </tr>\n",
       "  </thead>\n",
       "  <tbody>\n",
       "    <tr>\n",
       "      <th>0</th>\n",
       "      <td>63</td>\n",
       "      <td>1</td>\n",
       "      <td>3</td>\n",
       "      <td>145</td>\n",
       "      <td>233</td>\n",
       "      <td>1</td>\n",
       "      <td>0</td>\n",
       "      <td>150</td>\n",
       "      <td>0</td>\n",
       "      <td>2.3</td>\n",
       "      <td>0</td>\n",
       "      <td>0</td>\n",
       "      <td>1</td>\n",
       "      <td>1</td>\n",
       "    </tr>\n",
       "    <tr>\n",
       "      <th>1</th>\n",
       "      <td>37</td>\n",
       "      <td>1</td>\n",
       "      <td>2</td>\n",
       "      <td>130</td>\n",
       "      <td>250</td>\n",
       "      <td>0</td>\n",
       "      <td>1</td>\n",
       "      <td>187</td>\n",
       "      <td>0</td>\n",
       "      <td>3.5</td>\n",
       "      <td>0</td>\n",
       "      <td>0</td>\n",
       "      <td>2</td>\n",
       "      <td>1</td>\n",
       "    </tr>\n",
       "    <tr>\n",
       "      <th>2</th>\n",
       "      <td>41</td>\n",
       "      <td>0</td>\n",
       "      <td>1</td>\n",
       "      <td>130</td>\n",
       "      <td>204</td>\n",
       "      <td>0</td>\n",
       "      <td>0</td>\n",
       "      <td>172</td>\n",
       "      <td>0</td>\n",
       "      <td>1.4</td>\n",
       "      <td>2</td>\n",
       "      <td>0</td>\n",
       "      <td>2</td>\n",
       "      <td>1</td>\n",
       "    </tr>\n",
       "    <tr>\n",
       "      <th>3</th>\n",
       "      <td>56</td>\n",
       "      <td>1</td>\n",
       "      <td>1</td>\n",
       "      <td>120</td>\n",
       "      <td>236</td>\n",
       "      <td>0</td>\n",
       "      <td>1</td>\n",
       "      <td>178</td>\n",
       "      <td>0</td>\n",
       "      <td>0.8</td>\n",
       "      <td>2</td>\n",
       "      <td>0</td>\n",
       "      <td>2</td>\n",
       "      <td>1</td>\n",
       "    </tr>\n",
       "    <tr>\n",
       "      <th>4</th>\n",
       "      <td>57</td>\n",
       "      <td>0</td>\n",
       "      <td>0</td>\n",
       "      <td>120</td>\n",
       "      <td>354</td>\n",
       "      <td>0</td>\n",
       "      <td>1</td>\n",
       "      <td>163</td>\n",
       "      <td>1</td>\n",
       "      <td>0.6</td>\n",
       "      <td>2</td>\n",
       "      <td>0</td>\n",
       "      <td>2</td>\n",
       "      <td>1</td>\n",
       "    </tr>\n",
       "  </tbody>\n",
       "</table>\n",
       "</div>"
      ],
      "text/plain": [
       "   age  sex  cp  trestbps  chol  fbs  restecg  thalach  exang  oldpeak  slope  \\\n",
       "0   63    1   3       145   233    1        0      150      0      2.3      0   \n",
       "1   37    1   2       130   250    0        1      187      0      3.5      0   \n",
       "2   41    0   1       130   204    0        0      172      0      1.4      2   \n",
       "3   56    1   1       120   236    0        1      178      0      0.8      2   \n",
       "4   57    0   0       120   354    0        1      163      1      0.6      2   \n",
       "\n",
       "   ca  thal  target  \n",
       "0   0     1       1  \n",
       "1   0     2       1  \n",
       "2   0     2       1  \n",
       "3   0     2       1  \n",
       "4   0     2       1  "
      ]
     },
     "execution_count": 4,
     "metadata": {},
     "output_type": "execute_result"
    }
   ],
   "source": [
    "df = pd.read_csv('/kaggle/input/heart-disease-uci/heart.csv')\n",
    "df.head()"
   ]
  },
  {
   "cell_type": "code",
   "execution_count": 5,
   "id": "a02a4b51",
   "metadata": {
    "execution": {
     "iopub.execute_input": "2022-01-26T10:10:03.964288Z",
     "iopub.status.busy": "2022-01-26T10:10:03.963580Z",
     "iopub.status.idle": "2022-01-26T10:10:03.969693Z",
     "shell.execute_reply": "2022-01-26T10:10:03.970309Z",
     "shell.execute_reply.started": "2022-01-26T08:46:44.328935Z"
    },
    "papermill": {
     "duration": 0.044277,
     "end_time": "2022-01-26T10:10:03.970481",
     "exception": false,
     "start_time": "2022-01-26T10:10:03.926204",
     "status": "completed"
    },
    "tags": []
   },
   "outputs": [
    {
     "data": {
      "text/plain": [
       "(303, 14)"
      ]
     },
     "execution_count": 5,
     "metadata": {},
     "output_type": "execute_result"
    }
   ],
   "source": [
    "df.shape"
   ]
  },
  {
   "cell_type": "code",
   "execution_count": 6,
   "id": "4b6c8635",
   "metadata": {
    "execution": {
     "iopub.execute_input": "2022-01-26T10:10:04.042659Z",
     "iopub.status.busy": "2022-01-26T10:10:04.042014Z",
     "iopub.status.idle": "2022-01-26T10:10:04.050103Z",
     "shell.execute_reply": "2022-01-26T10:10:04.050706Z",
     "shell.execute_reply.started": "2022-01-26T08:47:15.143839Z"
    },
    "papermill": {
     "duration": 0.045704,
     "end_time": "2022-01-26T10:10:04.050882",
     "exception": false,
     "start_time": "2022-01-26T10:10:04.005178",
     "status": "completed"
    },
    "tags": []
   },
   "outputs": [
    {
     "data": {
      "text/plain": [
       "age           int64\n",
       "sex           int64\n",
       "cp            int64\n",
       "trestbps      int64\n",
       "chol          int64\n",
       "fbs           int64\n",
       "restecg       int64\n",
       "thalach       int64\n",
       "exang         int64\n",
       "oldpeak     float64\n",
       "slope         int64\n",
       "ca            int64\n",
       "thal          int64\n",
       "target        int64\n",
       "dtype: object"
      ]
     },
     "execution_count": 6,
     "metadata": {},
     "output_type": "execute_result"
    }
   ],
   "source": [
    "df.dtypes"
   ]
  },
  {
   "cell_type": "code",
   "execution_count": 7,
   "id": "eef16fff",
   "metadata": {
    "execution": {
     "iopub.execute_input": "2022-01-26T10:10:04.130601Z",
     "iopub.status.busy": "2022-01-26T10:10:04.124230Z",
     "iopub.status.idle": "2022-01-26T10:10:04.137231Z",
     "shell.execute_reply": "2022-01-26T10:10:04.137777Z",
     "shell.execute_reply.started": "2022-01-26T08:47:52.581684Z"
    },
    "papermill": {
     "duration": 0.052118,
     "end_time": "2022-01-26T10:10:04.137946",
     "exception": false,
     "start_time": "2022-01-26T10:10:04.085828",
     "status": "completed"
    },
    "tags": []
   },
   "outputs": [
    {
     "data": {
      "text/plain": [
       "age          41\n",
       "sex           2\n",
       "cp            4\n",
       "trestbps     49\n",
       "chol        152\n",
       "fbs           2\n",
       "restecg       3\n",
       "thalach      91\n",
       "exang         2\n",
       "oldpeak      40\n",
       "slope         3\n",
       "ca            5\n",
       "thal          4\n",
       "target        2\n",
       "dtype: int64"
      ]
     },
     "execution_count": 7,
     "metadata": {},
     "output_type": "execute_result"
    }
   ],
   "source": [
    "df.nunique()"
   ]
  },
  {
   "cell_type": "code",
   "execution_count": 8,
   "id": "524e1f11",
   "metadata": {
    "execution": {
     "iopub.execute_input": "2022-01-26T10:10:04.210539Z",
     "iopub.status.busy": "2022-01-26T10:10:04.209913Z",
     "iopub.status.idle": "2022-01-26T10:10:04.225970Z",
     "shell.execute_reply": "2022-01-26T10:10:04.226485Z",
     "shell.execute_reply.started": "2022-01-26T08:50:52.724479Z"
    },
    "papermill": {
     "duration": 0.054299,
     "end_time": "2022-01-26T10:10:04.226700",
     "exception": false,
     "start_time": "2022-01-26T10:10:04.172401",
     "status": "completed"
    },
    "tags": []
   },
   "outputs": [],
   "source": [
    "df = df.astype({\"sex\":'category',\"cp\":'category',\"fbs\":'category',\\\n",
    "                \"restecg\":'category',\"exang\":'category',\"slope\":'category',\"ca\":'category',\"thal\":'category',\"target\":'category'})"
   ]
  },
  {
   "cell_type": "code",
   "execution_count": 9,
   "id": "f839cfce",
   "metadata": {
    "execution": {
     "iopub.execute_input": "2022-01-26T10:10:04.299610Z",
     "iopub.status.busy": "2022-01-26T10:10:04.299016Z",
     "iopub.status.idle": "2022-01-26T10:10:04.305513Z",
     "shell.execute_reply": "2022-01-26T10:10:04.306093Z",
     "shell.execute_reply.started": "2022-01-26T08:51:21.070442Z"
    },
    "papermill": {
     "duration": 0.044634,
     "end_time": "2022-01-26T10:10:04.306266",
     "exception": false,
     "start_time": "2022-01-26T10:10:04.261632",
     "status": "completed"
    },
    "tags": []
   },
   "outputs": [
    {
     "data": {
      "text/plain": [
       "age            int64\n",
       "sex         category\n",
       "cp          category\n",
       "trestbps       int64\n",
       "chol           int64\n",
       "fbs         category\n",
       "restecg     category\n",
       "thalach        int64\n",
       "exang       category\n",
       "oldpeak      float64\n",
       "slope       category\n",
       "ca          category\n",
       "thal        category\n",
       "target      category\n",
       "dtype: object"
      ]
     },
     "execution_count": 9,
     "metadata": {},
     "output_type": "execute_result"
    }
   ],
   "source": [
    "df.dtypes"
   ]
  },
  {
   "cell_type": "code",
   "execution_count": 10,
   "id": "796e577d",
   "metadata": {
    "execution": {
     "iopub.execute_input": "2022-01-26T10:10:04.386179Z",
     "iopub.status.busy": "2022-01-26T10:10:04.385513Z",
     "iopub.status.idle": "2022-01-26T10:10:04.401047Z",
     "shell.execute_reply": "2022-01-26T10:10:04.401883Z",
     "shell.execute_reply.started": "2022-01-26T08:55:17.749286Z"
    },
    "papermill": {
     "duration": 0.059344,
     "end_time": "2022-01-26T10:10:04.402109",
     "exception": false,
     "start_time": "2022-01-26T10:10:04.342765",
     "status": "completed"
    },
    "tags": []
   },
   "outputs": [
    {
     "name": "stdout",
     "output_type": "stream",
     "text": [
      "<class 'pandas.core.frame.DataFrame'>\n",
      "RangeIndex: 303 entries, 0 to 302\n",
      "Data columns (total 14 columns):\n",
      " #   Column    Non-Null Count  Dtype   \n",
      "---  ------    --------------  -----   \n",
      " 0   age       303 non-null    int64   \n",
      " 1   sex       303 non-null    category\n",
      " 2   cp        303 non-null    category\n",
      " 3   trestbps  303 non-null    int64   \n",
      " 4   chol      303 non-null    int64   \n",
      " 5   fbs       303 non-null    category\n",
      " 6   restecg   303 non-null    category\n",
      " 7   thalach   303 non-null    int64   \n",
      " 8   exang     303 non-null    category\n",
      " 9   oldpeak   303 non-null    float64 \n",
      " 10  slope     303 non-null    category\n",
      " 11  ca        303 non-null    category\n",
      " 12  thal      303 non-null    category\n",
      " 13  target    303 non-null    category\n",
      "dtypes: category(9), float64(1), int64(4)\n",
      "memory usage: 16.0 KB\n"
     ]
    }
   ],
   "source": [
    "df.info()"
   ]
  },
  {
   "cell_type": "markdown",
   "id": "463d0012",
   "metadata": {
    "papermill": {
     "duration": 0.035196,
     "end_time": "2022-01-26T10:10:04.473947",
     "exception": false,
     "start_time": "2022-01-26T10:10:04.438751",
     "status": "completed"
    },
    "tags": []
   },
   "source": [
    "## Statistical Measure about data\n",
    "\n",
    "-----------------------"
   ]
  },
  {
   "cell_type": "code",
   "execution_count": 11,
   "id": "aa8a99e7",
   "metadata": {
    "execution": {
     "iopub.execute_input": "2022-01-26T10:10:04.549792Z",
     "iopub.status.busy": "2022-01-26T10:10:04.549148Z",
     "iopub.status.idle": "2022-01-26T10:10:04.603069Z",
     "shell.execute_reply": "2022-01-26T10:10:04.602506Z",
     "shell.execute_reply.started": "2022-01-26T09:25:11.921000Z"
    },
    "papermill": {
     "duration": 0.093442,
     "end_time": "2022-01-26T10:10:04.603220",
     "exception": false,
     "start_time": "2022-01-26T10:10:04.509778",
     "status": "completed"
    },
    "tags": []
   },
   "outputs": [
    {
     "data": {
      "text/html": [
       "<div>\n",
       "<style scoped>\n",
       "    .dataframe tbody tr th:only-of-type {\n",
       "        vertical-align: middle;\n",
       "    }\n",
       "\n",
       "    .dataframe tbody tr th {\n",
       "        vertical-align: top;\n",
       "    }\n",
       "\n",
       "    .dataframe thead th {\n",
       "        text-align: right;\n",
       "    }\n",
       "</style>\n",
       "<table border=\"1\" class=\"dataframe\">\n",
       "  <thead>\n",
       "    <tr style=\"text-align: right;\">\n",
       "      <th></th>\n",
       "      <th>age</th>\n",
       "      <th>sex</th>\n",
       "      <th>cp</th>\n",
       "      <th>trestbps</th>\n",
       "      <th>chol</th>\n",
       "      <th>fbs</th>\n",
       "      <th>restecg</th>\n",
       "      <th>thalach</th>\n",
       "      <th>exang</th>\n",
       "      <th>oldpeak</th>\n",
       "      <th>slope</th>\n",
       "      <th>ca</th>\n",
       "      <th>thal</th>\n",
       "      <th>target</th>\n",
       "    </tr>\n",
       "  </thead>\n",
       "  <tbody>\n",
       "    <tr>\n",
       "      <th>count</th>\n",
       "      <td>303.000000</td>\n",
       "      <td>303.0</td>\n",
       "      <td>303.0</td>\n",
       "      <td>303.000000</td>\n",
       "      <td>303.000000</td>\n",
       "      <td>303.0</td>\n",
       "      <td>303.0</td>\n",
       "      <td>303.000000</td>\n",
       "      <td>303.0</td>\n",
       "      <td>303.000000</td>\n",
       "      <td>303.0</td>\n",
       "      <td>303.0</td>\n",
       "      <td>303.0</td>\n",
       "      <td>303.0</td>\n",
       "    </tr>\n",
       "    <tr>\n",
       "      <th>unique</th>\n",
       "      <td>NaN</td>\n",
       "      <td>2.0</td>\n",
       "      <td>4.0</td>\n",
       "      <td>NaN</td>\n",
       "      <td>NaN</td>\n",
       "      <td>2.0</td>\n",
       "      <td>3.0</td>\n",
       "      <td>NaN</td>\n",
       "      <td>2.0</td>\n",
       "      <td>NaN</td>\n",
       "      <td>3.0</td>\n",
       "      <td>5.0</td>\n",
       "      <td>4.0</td>\n",
       "      <td>2.0</td>\n",
       "    </tr>\n",
       "    <tr>\n",
       "      <th>top</th>\n",
       "      <td>NaN</td>\n",
       "      <td>1.0</td>\n",
       "      <td>0.0</td>\n",
       "      <td>NaN</td>\n",
       "      <td>NaN</td>\n",
       "      <td>0.0</td>\n",
       "      <td>1.0</td>\n",
       "      <td>NaN</td>\n",
       "      <td>0.0</td>\n",
       "      <td>NaN</td>\n",
       "      <td>2.0</td>\n",
       "      <td>0.0</td>\n",
       "      <td>2.0</td>\n",
       "      <td>1.0</td>\n",
       "    </tr>\n",
       "    <tr>\n",
       "      <th>freq</th>\n",
       "      <td>NaN</td>\n",
       "      <td>207.0</td>\n",
       "      <td>143.0</td>\n",
       "      <td>NaN</td>\n",
       "      <td>NaN</td>\n",
       "      <td>258.0</td>\n",
       "      <td>152.0</td>\n",
       "      <td>NaN</td>\n",
       "      <td>204.0</td>\n",
       "      <td>NaN</td>\n",
       "      <td>142.0</td>\n",
       "      <td>175.0</td>\n",
       "      <td>166.0</td>\n",
       "      <td>165.0</td>\n",
       "    </tr>\n",
       "    <tr>\n",
       "      <th>mean</th>\n",
       "      <td>54.366337</td>\n",
       "      <td>NaN</td>\n",
       "      <td>NaN</td>\n",
       "      <td>131.623762</td>\n",
       "      <td>246.264026</td>\n",
       "      <td>NaN</td>\n",
       "      <td>NaN</td>\n",
       "      <td>149.646865</td>\n",
       "      <td>NaN</td>\n",
       "      <td>1.039604</td>\n",
       "      <td>NaN</td>\n",
       "      <td>NaN</td>\n",
       "      <td>NaN</td>\n",
       "      <td>NaN</td>\n",
       "    </tr>\n",
       "    <tr>\n",
       "      <th>std</th>\n",
       "      <td>9.082101</td>\n",
       "      <td>NaN</td>\n",
       "      <td>NaN</td>\n",
       "      <td>17.538143</td>\n",
       "      <td>51.830751</td>\n",
       "      <td>NaN</td>\n",
       "      <td>NaN</td>\n",
       "      <td>22.905161</td>\n",
       "      <td>NaN</td>\n",
       "      <td>1.161075</td>\n",
       "      <td>NaN</td>\n",
       "      <td>NaN</td>\n",
       "      <td>NaN</td>\n",
       "      <td>NaN</td>\n",
       "    </tr>\n",
       "    <tr>\n",
       "      <th>min</th>\n",
       "      <td>29.000000</td>\n",
       "      <td>NaN</td>\n",
       "      <td>NaN</td>\n",
       "      <td>94.000000</td>\n",
       "      <td>126.000000</td>\n",
       "      <td>NaN</td>\n",
       "      <td>NaN</td>\n",
       "      <td>71.000000</td>\n",
       "      <td>NaN</td>\n",
       "      <td>0.000000</td>\n",
       "      <td>NaN</td>\n",
       "      <td>NaN</td>\n",
       "      <td>NaN</td>\n",
       "      <td>NaN</td>\n",
       "    </tr>\n",
       "    <tr>\n",
       "      <th>25%</th>\n",
       "      <td>47.500000</td>\n",
       "      <td>NaN</td>\n",
       "      <td>NaN</td>\n",
       "      <td>120.000000</td>\n",
       "      <td>211.000000</td>\n",
       "      <td>NaN</td>\n",
       "      <td>NaN</td>\n",
       "      <td>133.500000</td>\n",
       "      <td>NaN</td>\n",
       "      <td>0.000000</td>\n",
       "      <td>NaN</td>\n",
       "      <td>NaN</td>\n",
       "      <td>NaN</td>\n",
       "      <td>NaN</td>\n",
       "    </tr>\n",
       "    <tr>\n",
       "      <th>50%</th>\n",
       "      <td>55.000000</td>\n",
       "      <td>NaN</td>\n",
       "      <td>NaN</td>\n",
       "      <td>130.000000</td>\n",
       "      <td>240.000000</td>\n",
       "      <td>NaN</td>\n",
       "      <td>NaN</td>\n",
       "      <td>153.000000</td>\n",
       "      <td>NaN</td>\n",
       "      <td>0.800000</td>\n",
       "      <td>NaN</td>\n",
       "      <td>NaN</td>\n",
       "      <td>NaN</td>\n",
       "      <td>NaN</td>\n",
       "    </tr>\n",
       "    <tr>\n",
       "      <th>75%</th>\n",
       "      <td>61.000000</td>\n",
       "      <td>NaN</td>\n",
       "      <td>NaN</td>\n",
       "      <td>140.000000</td>\n",
       "      <td>274.500000</td>\n",
       "      <td>NaN</td>\n",
       "      <td>NaN</td>\n",
       "      <td>166.000000</td>\n",
       "      <td>NaN</td>\n",
       "      <td>1.600000</td>\n",
       "      <td>NaN</td>\n",
       "      <td>NaN</td>\n",
       "      <td>NaN</td>\n",
       "      <td>NaN</td>\n",
       "    </tr>\n",
       "    <tr>\n",
       "      <th>max</th>\n",
       "      <td>77.000000</td>\n",
       "      <td>NaN</td>\n",
       "      <td>NaN</td>\n",
       "      <td>200.000000</td>\n",
       "      <td>564.000000</td>\n",
       "      <td>NaN</td>\n",
       "      <td>NaN</td>\n",
       "      <td>202.000000</td>\n",
       "      <td>NaN</td>\n",
       "      <td>6.200000</td>\n",
       "      <td>NaN</td>\n",
       "      <td>NaN</td>\n",
       "      <td>NaN</td>\n",
       "      <td>NaN</td>\n",
       "    </tr>\n",
       "  </tbody>\n",
       "</table>\n",
       "</div>"
      ],
      "text/plain": [
       "               age    sex     cp    trestbps        chol    fbs  restecg  \\\n",
       "count   303.000000  303.0  303.0  303.000000  303.000000  303.0    303.0   \n",
       "unique         NaN    2.0    4.0         NaN         NaN    2.0      3.0   \n",
       "top            NaN    1.0    0.0         NaN         NaN    0.0      1.0   \n",
       "freq           NaN  207.0  143.0         NaN         NaN  258.0    152.0   \n",
       "mean     54.366337    NaN    NaN  131.623762  246.264026    NaN      NaN   \n",
       "std       9.082101    NaN    NaN   17.538143   51.830751    NaN      NaN   \n",
       "min      29.000000    NaN    NaN   94.000000  126.000000    NaN      NaN   \n",
       "25%      47.500000    NaN    NaN  120.000000  211.000000    NaN      NaN   \n",
       "50%      55.000000    NaN    NaN  130.000000  240.000000    NaN      NaN   \n",
       "75%      61.000000    NaN    NaN  140.000000  274.500000    NaN      NaN   \n",
       "max      77.000000    NaN    NaN  200.000000  564.000000    NaN      NaN   \n",
       "\n",
       "           thalach  exang     oldpeak  slope     ca   thal  target  \n",
       "count   303.000000  303.0  303.000000  303.0  303.0  303.0   303.0  \n",
       "unique         NaN    2.0         NaN    3.0    5.0    4.0     2.0  \n",
       "top            NaN    0.0         NaN    2.0    0.0    2.0     1.0  \n",
       "freq           NaN  204.0         NaN  142.0  175.0  166.0   165.0  \n",
       "mean    149.646865    NaN    1.039604    NaN    NaN    NaN     NaN  \n",
       "std      22.905161    NaN    1.161075    NaN    NaN    NaN     NaN  \n",
       "min      71.000000    NaN    0.000000    NaN    NaN    NaN     NaN  \n",
       "25%     133.500000    NaN    0.000000    NaN    NaN    NaN     NaN  \n",
       "50%     153.000000    NaN    0.800000    NaN    NaN    NaN     NaN  \n",
       "75%     166.000000    NaN    1.600000    NaN    NaN    NaN     NaN  \n",
       "max     202.000000    NaN    6.200000    NaN    NaN    NaN     NaN  "
      ]
     },
     "execution_count": 11,
     "metadata": {},
     "output_type": "execute_result"
    }
   ],
   "source": [
    "df.describe(include='all')"
   ]
  },
  {
   "cell_type": "code",
   "execution_count": 12,
   "id": "9de6d3ce",
   "metadata": {
    "execution": {
     "iopub.execute_input": "2022-01-26T10:10:04.686813Z",
     "iopub.status.busy": "2022-01-26T10:10:04.685777Z",
     "iopub.status.idle": "2022-01-26T10:10:05.865334Z",
     "shell.execute_reply": "2022-01-26T10:10:05.864799Z",
     "shell.execute_reply.started": "2022-01-26T08:57:26.262291Z"
    },
    "papermill": {
     "duration": 1.225941,
     "end_time": "2022-01-26T10:10:05.865477",
     "exception": false,
     "start_time": "2022-01-26T10:10:04.639536",
     "status": "completed"
    },
    "tags": []
   },
   "outputs": [
    {
     "data": {
      "text/plain": [
       "<AxesSubplot:>"
      ]
     },
     "execution_count": 12,
     "metadata": {},
     "output_type": "execute_result"
    },
    {
     "data": {
      "image/png": "[encoded data removed]",
      "text/plain": [
       "<Figure size 1728x720 with 3 Axes>"
      ]
     },
     "metadata": {
      "needs_background": "light"
     },
     "output_type": "display_data"
    }
   ],
   "source": [
    "msno.bar(df)"
   ]
  },
  {
   "cell_type": "code",
   "execution_count": 13,
   "id": "5240b7ea",
   "metadata": {
    "execution": {
     "iopub.execute_input": "2022-01-26T10:10:05.948934Z",
     "iopub.status.busy": "2022-01-26T10:10:05.947916Z",
     "iopub.status.idle": "2022-01-26T10:10:05.950772Z",
     "shell.execute_reply": "2022-01-26T10:10:05.950168Z",
     "shell.execute_reply.started": "2022-01-26T08:58:20.642450Z"
    },
    "papermill": {
     "duration": 0.0473,
     "end_time": "2022-01-26T10:10:05.950916",
     "exception": false,
     "start_time": "2022-01-26T10:10:05.903616",
     "status": "completed"
    },
    "tags": []
   },
   "outputs": [],
   "source": [
    "sns.set(rc={'figure.figsize':(11.7,8.27)})\n",
    "sns.set_theme(style=\"whitegrid\")"
   ]
  },
  {
   "cell_type": "code",
   "execution_count": 14,
   "id": "9d4a0005",
   "metadata": {
    "execution": {
     "iopub.execute_input": "2022-01-26T10:10:06.051496Z",
     "iopub.status.busy": "2022-01-26T10:10:06.034632Z",
     "iopub.status.idle": "2022-01-26T10:10:06.363729Z",
     "shell.execute_reply": "2022-01-26T10:10:06.363183Z",
     "shell.execute_reply.started": "2022-01-26T08:58:25.110751Z"
    },
    "papermill": {
     "duration": 0.375181,
     "end_time": "2022-01-26T10:10:06.363875",
     "exception": false,
     "start_time": "2022-01-26T10:10:05.988694",
     "status": "completed"
    },
    "tags": []
   },
   "outputs": [
    {
     "data": {
      "text/plain": [
       "<AxesSubplot:>"
      ]
     },
     "execution_count": 14,
     "metadata": {},
     "output_type": "execute_result"
    },
    {
     "data": {
      "image/png": "[encoded data removed]",
      "text/plain": [
       "<Figure size 842.4x595.44 with 1 Axes>"
      ]
     },
     "metadata": {},
     "output_type": "display_data"
    }
   ],
   "source": [
    "sns.boxplot(data=df,palette=\"Set3\",linewidth=2.5,orient=\"h\",showfliers=False)"
   ]
  },
  {
   "cell_type": "code",
   "execution_count": 15,
   "id": "0060b1ba",
   "metadata": {
    "execution": {
     "iopub.execute_input": "2022-01-26T10:10:06.501248Z",
     "iopub.status.busy": "2022-01-26T10:10:06.470490Z",
     "iopub.status.idle": "2022-01-26T10:10:07.906365Z",
     "shell.execute_reply": "2022-01-26T10:10:07.907100Z",
     "shell.execute_reply.started": "2022-01-26T09:07:52.793531Z"
    },
    "papermill": {
     "duration": 1.504344,
     "end_time": "2022-01-26T10:10:07.907307",
     "exception": false,
     "start_time": "2022-01-26T10:10:06.402963",
     "status": "completed"
    },
    "tags": []
   },
   "outputs": [
    {
     "data": {
      "text/plain": [
       "Text(0, 0.5, 'Count')"
      ]
     },
     "execution_count": 15,
     "metadata": {},
     "output_type": "execute_result"
    },
    {
     "data": {
      "image/png": "[encoded data removed]",
      "text/plain": [
       "<Figure size 1440x432 with 5 Axes>"
      ]
     },
     "metadata": {},
     "output_type": "display_data"
    }
   ],
   "source": [
    "vals =['age', 'trestbps', 'chol', 'thalach', 'oldpeak']\n",
    "fig, ax = plt.subplots(1,5,figsize=(20,6))\n",
    "plt.suptitle('DISTRIBUTION PLOTS')\n",
    "# Histogram Plot for distribution and skewness\n",
    "sns.histplot(df['age'], kde=True, color='red', bins=20,ax=ax[0]) #Age\n",
    "plt.title('Age Distribution', fontsize=18)\n",
    "plt.xlabel('Age', fontsize=16)\n",
    "plt.ylabel('Count', fontsize=16)\n",
    "\n",
    "sns.histplot(df['trestbps'], kde=True, color='green', bins=20,ax=ax[1]) #Credit amount \n",
    "plt.title('trestbps', fontsize=18)\n",
    "plt.xlabel('trestbps', fontsize=16)\n",
    "plt.ylabel('Count', fontsize=16)\n",
    "\n",
    "sns.histplot(df['chol'], kde=True, color='blue', bins=20,ax=ax[2])#Duration\n",
    "plt.title('chol', fontsize=18)\n",
    "plt.xlabel('chol', fontsize=16)\n",
    "plt.ylabel('Count', fontsize=16)\n",
    "\n",
    "sns.histplot(df['thalach'], kde=True, color='blue', bins=20,ax=ax[3])#Duration\n",
    "plt.title('thalach', fontsize=18)\n",
    "plt.xlabel('thalach', fontsize=16)\n",
    "plt.ylabel('Count', fontsize=16)\n",
    "\n",
    "sns.histplot(df['oldpeak'], kde=True, color='blue', bins=20,ax=ax[4])#Duration\n",
    "plt.title('oldpeak', fontsize=18)\n",
    "plt.xlabel('oldpeak', fontsize=16)\n",
    "plt.ylabel('Count', fontsize=16)"
   ]
  },
  {
   "cell_type": "code",
   "execution_count": 16,
   "id": "6c32b77f",
   "metadata": {
    "execution": {
     "iopub.execute_input": "2022-01-26T10:10:08.037451Z",
     "iopub.status.busy": "2022-01-26T10:10:08.003811Z",
     "iopub.status.idle": "2022-01-26T10:10:09.105873Z",
     "shell.execute_reply": "2022-01-26T10:10:09.106361Z",
     "shell.execute_reply.started": "2022-01-26T09:16:40.379027Z"
    },
    "papermill": {
     "duration": 1.157443,
     "end_time": "2022-01-26T10:10:09.106525",
     "exception": false,
     "start_time": "2022-01-26T10:10:07.949082",
     "status": "completed"
    },
    "tags": []
   },
   "outputs": [
    {
     "data": {
      "text/plain": [
       "<AxesSubplot:xlabel='target', ylabel='count'>"
      ]
     },
     "execution_count": 16,
     "metadata": {},
     "output_type": "execute_result"
    },
    {
     "data": {
      "text/plain": [
       "<Figure size 1080x720 with 0 Axes>"
      ]
     },
     "metadata": {},
     "output_type": "display_data"
    },
    {
     "data": {
      "image/png": "[encoded data removed]",
      "text/plain": [
       "<Figure size 842.4x595.44 with 9 Axes>"
      ]
     },
     "metadata": {},
     "output_type": "display_data"
    }
   ],
   "source": [
    "plt.figure(figsize=(15, 10))\n",
    "f, axes = plt.subplots(3, 3)\n",
    "sex = df['sex']\n",
    "sns.countplot(x= sex ,data =df,orient='v', ax=axes[0][0])#box plot fot sex column\n",
    "cp = df['cp']\n",
    "sns.countplot(x= cp ,data =df,order=cp.value_counts().sort_values().index,orient='v', ax=axes[0][1])#box plot fot job column\n",
    "fbs = df['fbs']\n",
    "sns.countplot(x= fbs ,data =df,orient='v', ax=axes[0][2])#box plot fot sex column\n",
    "restecg = df['restecg']\n",
    "sns.countplot(x= restecg ,data =df,order=restecg.value_counts().sort_values().index,orient='v', ax=axes[1][0])#box plot fot job column\n",
    "exang = df['exang']\n",
    "sns.countplot(x= exang ,data =df,orient='v', ax=axes[1][2])#box plot fot sex column\n",
    "slope = df['slope']\n",
    "sns.countplot(x= slope ,data =df,order=slope.value_counts().sort_values().index,orient='v', ax=axes[1][1])#box plot fot job column\n",
    "ca = df['ca']\n",
    "sns.countplot(x= ca ,data =df,order=ca.value_counts().sort_values().index,orient='v', ax=axes[2][0])#box plot fot job column\n",
    "thal = df['thal']\n",
    "sns.countplot(x= thal ,data =df,orient='v', ax=axes[2][2])#box plot fot sex column\n",
    "target = df['target']\n",
    "sns.countplot(x= target ,data =df,order=target.value_counts().sort_values().index,orient='v', ax=axes[2][1])#box plot fot job column"
   ]
  },
  {
   "cell_type": "markdown",
   "id": "9d5ce639",
   "metadata": {
    "papermill": {
     "duration": 0.043845,
     "end_time": "2022-01-26T10:10:09.194091",
     "exception": false,
     "start_time": "2022-01-26T10:10:09.150246",
     "status": "completed"
    },
    "tags": []
   },
   "source": [
    "## Spliting the Features and Target"
   ]
  },
  {
   "cell_type": "code",
   "execution_count": 17,
   "id": "050a31d9",
   "metadata": {
    "execution": {
     "iopub.execute_input": "2022-01-26T10:10:09.286282Z",
     "iopub.status.busy": "2022-01-26T10:10:09.285532Z",
     "iopub.status.idle": "2022-01-26T10:10:09.292614Z",
     "shell.execute_reply": "2022-01-26T10:10:09.293281Z",
     "shell.execute_reply.started": "2022-01-26T09:48:01.265816Z"
    },
    "papermill": {
     "duration": 0.055584,
     "end_time": "2022-01-26T10:10:09.293459",
     "exception": false,
     "start_time": "2022-01-26T10:10:09.237875",
     "status": "completed"
    },
    "tags": []
   },
   "outputs": [],
   "source": [
    "X= df.drop(columns='target',axis=1)\n",
    "Y=df['target']"
   ]
  },
  {
   "cell_type": "code",
   "execution_count": 18,
   "id": "d9d988e4",
   "metadata": {
    "execution": {
     "iopub.execute_input": "2022-01-26T10:10:09.397590Z",
     "iopub.status.busy": "2022-01-26T10:10:09.383681Z",
     "iopub.status.idle": "2022-01-26T10:10:09.400796Z",
     "shell.execute_reply": "2022-01-26T10:10:09.401248Z",
     "shell.execute_reply.started": "2022-01-26T09:48:03.035510Z"
    },
    "papermill": {
     "duration": 0.064071,
     "end_time": "2022-01-26T10:10:09.401426",
     "exception": false,
     "start_time": "2022-01-26T10:10:09.337355",
     "status": "completed"
    },
    "tags": []
   },
   "outputs": [
    {
     "data": {
      "text/html": [
       "<div>\n",
       "<style scoped>\n",
       "    .dataframe tbody tr th:only-of-type {\n",
       "        vertical-align: middle;\n",
       "    }\n",
       "\n",
       "    .dataframe tbody tr th {\n",
       "        vertical-align: top;\n",
       "    }\n",
       "\n",
       "    .dataframe thead th {\n",
       "        text-align: right;\n",
       "    }\n",
       "</style>\n",
       "<table border=\"1\" class=\"dataframe\">\n",
       "  <thead>\n",
       "    <tr style=\"text-align: right;\">\n",
       "      <th></th>\n",
       "      <th>age</th>\n",
       "      <th>sex</th>\n",
       "      <th>cp</th>\n",
       "      <th>trestbps</th>\n",
       "      <th>chol</th>\n",
       "      <th>fbs</th>\n",
       "      <th>restecg</th>\n",
       "      <th>thalach</th>\n",
       "      <th>exang</th>\n",
       "      <th>oldpeak</th>\n",
       "      <th>slope</th>\n",
       "      <th>ca</th>\n",
       "      <th>thal</th>\n",
       "    </tr>\n",
       "  </thead>\n",
       "  <tbody>\n",
       "    <tr>\n",
       "      <th>0</th>\n",
       "      <td>63</td>\n",
       "      <td>1</td>\n",
       "      <td>3</td>\n",
       "      <td>145</td>\n",
       "      <td>233</td>\n",
       "      <td>1</td>\n",
       "      <td>0</td>\n",
       "      <td>150</td>\n",
       "      <td>0</td>\n",
       "      <td>2.3</td>\n",
       "      <td>0</td>\n",
       "      <td>0</td>\n",
       "      <td>1</td>\n",
       "    </tr>\n",
       "    <tr>\n",
       "      <th>1</th>\n",
       "      <td>37</td>\n",
       "      <td>1</td>\n",
       "      <td>2</td>\n",
       "      <td>130</td>\n",
       "      <td>250</td>\n",
       "      <td>0</td>\n",
       "      <td>1</td>\n",
       "      <td>187</td>\n",
       "      <td>0</td>\n",
       "      <td>3.5</td>\n",
       "      <td>0</td>\n",
       "      <td>0</td>\n",
       "      <td>2</td>\n",
       "    </tr>\n",
       "    <tr>\n",
       "      <th>2</th>\n",
       "      <td>41</td>\n",
       "      <td>0</td>\n",
       "      <td>1</td>\n",
       "      <td>130</td>\n",
       "      <td>204</td>\n",
       "      <td>0</td>\n",
       "      <td>0</td>\n",
       "      <td>172</td>\n",
       "      <td>0</td>\n",
       "      <td>1.4</td>\n",
       "      <td>2</td>\n",
       "      <td>0</td>\n",
       "      <td>2</td>\n",
       "    </tr>\n",
       "    <tr>\n",
       "      <th>3</th>\n",
       "      <td>56</td>\n",
       "      <td>1</td>\n",
       "      <td>1</td>\n",
       "      <td>120</td>\n",
       "      <td>236</td>\n",
       "      <td>0</td>\n",
       "      <td>1</td>\n",
       "      <td>178</td>\n",
       "      <td>0</td>\n",
       "      <td>0.8</td>\n",
       "      <td>2</td>\n",
       "      <td>0</td>\n",
       "      <td>2</td>\n",
       "    </tr>\n",
       "    <tr>\n",
       "      <th>4</th>\n",
       "      <td>57</td>\n",
       "      <td>0</td>\n",
       "      <td>0</td>\n",
       "      <td>120</td>\n",
       "      <td>354</td>\n",
       "      <td>0</td>\n",
       "      <td>1</td>\n",
       "      <td>163</td>\n",
       "      <td>1</td>\n",
       "      <td>0.6</td>\n",
       "      <td>2</td>\n",
       "      <td>0</td>\n",
       "      <td>2</td>\n",
       "    </tr>\n",
       "  </tbody>\n",
       "</table>\n",
       "</div>"
      ],
      "text/plain": [
       "   age sex cp  trestbps  chol fbs restecg  thalach exang  oldpeak slope ca  \\\n",
       "0   63   1  3       145   233   1       0      150     0      2.3     0  0   \n",
       "1   37   1  2       130   250   0       1      187     0      3.5     0  0   \n",
       "2   41   0  1       130   204   0       0      172     0      1.4     2  0   \n",
       "3   56   1  1       120   236   0       1      178     0      0.8     2  0   \n",
       "4   57   0  0       120   354   0       1      163     1      0.6     2  0   \n",
       "\n",
       "  thal  \n",
       "0    1  \n",
       "1    2  \n",
       "2    2  \n",
       "3    2  \n",
       "4    2  "
      ]
     },
     "execution_count": 18,
     "metadata": {},
     "output_type": "execute_result"
    }
   ],
   "source": [
    "X.head()"
   ]
  },
  {
   "cell_type": "code",
   "execution_count": 19,
   "id": "2455bdde",
   "metadata": {
    "execution": {
     "iopub.execute_input": "2022-01-26T10:10:09.496946Z",
     "iopub.status.busy": "2022-01-26T10:10:09.492770Z",
     "iopub.status.idle": "2022-01-26T10:10:09.500313Z",
     "shell.execute_reply": "2022-01-26T10:10:09.499790Z",
     "shell.execute_reply.started": "2022-01-26T09:30:31.874056Z"
    },
    "papermill": {
     "duration": 0.05455,
     "end_time": "2022-01-26T10:10:09.500446",
     "exception": false,
     "start_time": "2022-01-26T10:10:09.445896",
     "status": "completed"
    },
    "tags": []
   },
   "outputs": [
    {
     "data": {
      "text/plain": [
       "0    1\n",
       "1    1\n",
       "2    1\n",
       "3    1\n",
       "4    1\n",
       "Name: target, dtype: category\n",
       "Categories (2, int64): [0, 1]"
      ]
     },
     "execution_count": 19,
     "metadata": {},
     "output_type": "execute_result"
    }
   ],
   "source": [
    "Y.head()"
   ]
  },
  {
   "cell_type": "markdown",
   "id": "eb4bdb74",
   "metadata": {
    "papermill": {
     "duration": 0.043847,
     "end_time": "2022-01-26T10:10:09.588922",
     "exception": false,
     "start_time": "2022-01-26T10:10:09.545075",
     "status": "completed"
    },
    "tags": []
   },
   "source": [
    "## Spliting the data into training data and test data"
   ]
  },
  {
   "cell_type": "code",
   "execution_count": 20,
   "id": "a690b36b",
   "metadata": {
    "execution": {
     "iopub.execute_input": "2022-01-26T10:10:09.683788Z",
     "iopub.status.busy": "2022-01-26T10:10:09.682946Z",
     "iopub.status.idle": "2022-01-26T10:10:09.691558Z",
     "shell.execute_reply": "2022-01-26T10:10:09.692152Z",
     "shell.execute_reply.started": "2022-01-26T09:48:17.594784Z"
    },
    "papermill": {
     "duration": 0.058974,
     "end_time": "2022-01-26T10:10:09.692321",
     "exception": false,
     "start_time": "2022-01-26T10:10:09.633347",
     "status": "completed"
    },
    "tags": []
   },
   "outputs": [],
   "source": [
    "labels = Y\n",
    "features =X\n",
    "train_features, test_features, train_labels, test_labels = train_test_split(features, labels, test_size = 0.2, stratify=labels,random_state = 2)"
   ]
  },
  {
   "cell_type": "code",
   "execution_count": 21,
   "id": "6dcc09a5",
   "metadata": {
    "execution": {
     "iopub.execute_input": "2022-01-26T10:10:09.790543Z",
     "iopub.status.busy": "2022-01-26T10:10:09.786090Z",
     "iopub.status.idle": "2022-01-26T10:10:09.793509Z",
     "shell.execute_reply": "2022-01-26T10:10:09.794098Z",
     "shell.execute_reply.started": "2022-01-26T09:48:20.202424Z"
    },
    "papermill": {
     "duration": 0.056436,
     "end_time": "2022-01-26T10:10:09.794272",
     "exception": false,
     "start_time": "2022-01-26T10:10:09.737836",
     "status": "completed"
    },
    "tags": []
   },
   "outputs": [
    {
     "data": {
      "text/plain": [
       "255    0\n",
       "72     1\n",
       "83     1\n",
       "268    0\n",
       "92     1\n",
       "      ..\n",
       "42     1\n",
       "187    0\n",
       "8      1\n",
       "122    1\n",
       "19     1\n",
       "Name: target, Length: 61, dtype: category\n",
       "Categories (2, int64): [0, 1]"
      ]
     },
     "execution_count": 21,
     "metadata": {},
     "output_type": "execute_result"
    }
   ],
   "source": [
    "test_labels"
   ]
  },
  {
   "cell_type": "code",
   "execution_count": 22,
   "id": "de774866",
   "metadata": {
    "execution": {
     "iopub.execute_input": "2022-01-26T10:10:09.893476Z",
     "iopub.status.busy": "2022-01-26T10:10:09.892673Z",
     "iopub.status.idle": "2022-01-26T10:10:09.896336Z",
     "shell.execute_reply": "2022-01-26T10:10:09.895751Z",
     "shell.execute_reply.started": "2022-01-26T09:48:08.439126Z"
    },
    "papermill": {
     "duration": 0.05644,
     "end_time": "2022-01-26T10:10:09.896489",
     "exception": false,
     "start_time": "2022-01-26T10:10:09.840049",
     "status": "completed"
    },
    "tags": []
   },
   "outputs": [
    {
     "data": {
      "text/plain": [
       "61     1\n",
       "238    0\n",
       "160    1\n",
       "158    1\n",
       "289    0\n",
       "      ..\n",
       "100    1\n",
       "49     1\n",
       "300    0\n",
       "194    0\n",
       "131    1\n",
       "Name: target, Length: 242, dtype: category\n",
       "Categories (2, int64): [0, 1]"
      ]
     },
     "execution_count": 22,
     "metadata": {},
     "output_type": "execute_result"
    }
   ],
   "source": [
    "train_labels"
   ]
  },
  {
   "cell_type": "code",
   "execution_count": 23,
   "id": "fb96517e",
   "metadata": {
    "execution": {
     "iopub.execute_input": "2022-01-26T10:10:09.994993Z",
     "iopub.status.busy": "2022-01-26T10:10:09.992670Z",
     "iopub.status.idle": "2022-01-26T10:10:10.015506Z",
     "shell.execute_reply": "2022-01-26T10:10:10.016067Z",
     "shell.execute_reply.started": "2022-01-26T09:48:10.404574Z"
    },
    "papermill": {
     "duration": 0.073228,
     "end_time": "2022-01-26T10:10:10.016242",
     "exception": false,
     "start_time": "2022-01-26T10:10:09.943014",
     "status": "completed"
    },
    "tags": []
   },
   "outputs": [
    {
     "data": {
      "text/html": [
       "<div>\n",
       "<style scoped>\n",
       "    .dataframe tbody tr th:only-of-type {\n",
       "        vertical-align: middle;\n",
       "    }\n",
       "\n",
       "    .dataframe tbody tr th {\n",
       "        vertical-align: top;\n",
       "    }\n",
       "\n",
       "    .dataframe thead th {\n",
       "        text-align: right;\n",
       "    }\n",
       "</style>\n",
       "<table border=\"1\" class=\"dataframe\">\n",
       "  <thead>\n",
       "    <tr style=\"text-align: right;\">\n",
       "      <th></th>\n",
       "      <th>age</th>\n",
       "      <th>sex</th>\n",
       "      <th>cp</th>\n",
       "      <th>trestbps</th>\n",
       "      <th>chol</th>\n",
       "      <th>fbs</th>\n",
       "      <th>restecg</th>\n",
       "      <th>thalach</th>\n",
       "      <th>exang</th>\n",
       "      <th>oldpeak</th>\n",
       "      <th>slope</th>\n",
       "      <th>ca</th>\n",
       "      <th>thal</th>\n",
       "    </tr>\n",
       "  </thead>\n",
       "  <tbody>\n",
       "    <tr>\n",
       "      <th>61</th>\n",
       "      <td>54</td>\n",
       "      <td>1</td>\n",
       "      <td>1</td>\n",
       "      <td>108</td>\n",
       "      <td>309</td>\n",
       "      <td>0</td>\n",
       "      <td>1</td>\n",
       "      <td>156</td>\n",
       "      <td>0</td>\n",
       "      <td>0.0</td>\n",
       "      <td>2</td>\n",
       "      <td>0</td>\n",
       "      <td>3</td>\n",
       "    </tr>\n",
       "    <tr>\n",
       "      <th>238</th>\n",
       "      <td>77</td>\n",
       "      <td>1</td>\n",
       "      <td>0</td>\n",
       "      <td>125</td>\n",
       "      <td>304</td>\n",
       "      <td>0</td>\n",
       "      <td>0</td>\n",
       "      <td>162</td>\n",
       "      <td>1</td>\n",
       "      <td>0.0</td>\n",
       "      <td>2</td>\n",
       "      <td>3</td>\n",
       "      <td>2</td>\n",
       "    </tr>\n",
       "    <tr>\n",
       "      <th>160</th>\n",
       "      <td>56</td>\n",
       "      <td>1</td>\n",
       "      <td>1</td>\n",
       "      <td>120</td>\n",
       "      <td>240</td>\n",
       "      <td>0</td>\n",
       "      <td>1</td>\n",
       "      <td>169</td>\n",
       "      <td>0</td>\n",
       "      <td>0.0</td>\n",
       "      <td>0</td>\n",
       "      <td>0</td>\n",
       "      <td>2</td>\n",
       "    </tr>\n",
       "    <tr>\n",
       "      <th>158</th>\n",
       "      <td>58</td>\n",
       "      <td>1</td>\n",
       "      <td>1</td>\n",
       "      <td>125</td>\n",
       "      <td>220</td>\n",
       "      <td>0</td>\n",
       "      <td>1</td>\n",
       "      <td>144</td>\n",
       "      <td>0</td>\n",
       "      <td>0.4</td>\n",
       "      <td>1</td>\n",
       "      <td>4</td>\n",
       "      <td>3</td>\n",
       "    </tr>\n",
       "    <tr>\n",
       "      <th>289</th>\n",
       "      <td>55</td>\n",
       "      <td>0</td>\n",
       "      <td>0</td>\n",
       "      <td>128</td>\n",
       "      <td>205</td>\n",
       "      <td>0</td>\n",
       "      <td>2</td>\n",
       "      <td>130</td>\n",
       "      <td>1</td>\n",
       "      <td>2.0</td>\n",
       "      <td>1</td>\n",
       "      <td>1</td>\n",
       "      <td>3</td>\n",
       "    </tr>\n",
       "    <tr>\n",
       "      <th>...</th>\n",
       "      <td>...</td>\n",
       "      <td>...</td>\n",
       "      <td>...</td>\n",
       "      <td>...</td>\n",
       "      <td>...</td>\n",
       "      <td>...</td>\n",
       "      <td>...</td>\n",
       "      <td>...</td>\n",
       "      <td>...</td>\n",
       "      <td>...</td>\n",
       "      <td>...</td>\n",
       "      <td>...</td>\n",
       "      <td>...</td>\n",
       "    </tr>\n",
       "    <tr>\n",
       "      <th>100</th>\n",
       "      <td>42</td>\n",
       "      <td>1</td>\n",
       "      <td>3</td>\n",
       "      <td>148</td>\n",
       "      <td>244</td>\n",
       "      <td>0</td>\n",
       "      <td>0</td>\n",
       "      <td>178</td>\n",
       "      <td>0</td>\n",
       "      <td>0.8</td>\n",
       "      <td>2</td>\n",
       "      <td>2</td>\n",
       "      <td>2</td>\n",
       "    </tr>\n",
       "    <tr>\n",
       "      <th>49</th>\n",
       "      <td>53</td>\n",
       "      <td>0</td>\n",
       "      <td>0</td>\n",
       "      <td>138</td>\n",
       "      <td>234</td>\n",
       "      <td>0</td>\n",
       "      <td>0</td>\n",
       "      <td>160</td>\n",
       "      <td>0</td>\n",
       "      <td>0.0</td>\n",
       "      <td>2</td>\n",
       "      <td>0</td>\n",
       "      <td>2</td>\n",
       "    </tr>\n",
       "    <tr>\n",
       "      <th>300</th>\n",
       "      <td>68</td>\n",
       "      <td>1</td>\n",
       "      <td>0</td>\n",
       "      <td>144</td>\n",
       "      <td>193</td>\n",
       "      <td>1</td>\n",
       "      <td>1</td>\n",
       "      <td>141</td>\n",
       "      <td>0</td>\n",
       "      <td>3.4</td>\n",
       "      <td>1</td>\n",
       "      <td>2</td>\n",
       "      <td>3</td>\n",
       "    </tr>\n",
       "    <tr>\n",
       "      <th>194</th>\n",
       "      <td>60</td>\n",
       "      <td>1</td>\n",
       "      <td>2</td>\n",
       "      <td>140</td>\n",
       "      <td>185</td>\n",
       "      <td>0</td>\n",
       "      <td>0</td>\n",
       "      <td>155</td>\n",
       "      <td>0</td>\n",
       "      <td>3.0</td>\n",
       "      <td>1</td>\n",
       "      <td>0</td>\n",
       "      <td>2</td>\n",
       "    </tr>\n",
       "    <tr>\n",
       "      <th>131</th>\n",
       "      <td>49</td>\n",
       "      <td>0</td>\n",
       "      <td>1</td>\n",
       "      <td>134</td>\n",
       "      <td>271</td>\n",
       "      <td>0</td>\n",
       "      <td>1</td>\n",
       "      <td>162</td>\n",
       "      <td>0</td>\n",
       "      <td>0.0</td>\n",
       "      <td>1</td>\n",
       "      <td>0</td>\n",
       "      <td>2</td>\n",
       "    </tr>\n",
       "  </tbody>\n",
       "</table>\n",
       "<p>242 rows × 13 columns</p>\n",
       "</div>"
      ],
      "text/plain": [
       "     age sex cp  trestbps  chol fbs restecg  thalach exang  oldpeak slope ca  \\\n",
       "61    54   1  1       108   309   0       1      156     0      0.0     2  0   \n",
       "238   77   1  0       125   304   0       0      162     1      0.0     2  3   \n",
       "160   56   1  1       120   240   0       1      169     0      0.0     0  0   \n",
       "158   58   1  1       125   220   0       1      144     0      0.4     1  4   \n",
       "289   55   0  0       128   205   0       2      130     1      2.0     1  1   \n",
       "..   ...  .. ..       ...   ...  ..     ...      ...   ...      ...   ... ..   \n",
       "100   42   1  3       148   244   0       0      178     0      0.8     2  2   \n",
       "49    53   0  0       138   234   0       0      160     0      0.0     2  0   \n",
       "300   68   1  0       144   193   1       1      141     0      3.4     1  2   \n",
       "194   60   1  2       140   185   0       0      155     0      3.0     1  0   \n",
       "131   49   0  1       134   271   0       1      162     0      0.0     1  0   \n",
       "\n",
       "    thal  \n",
       "61     3  \n",
       "238    2  \n",
       "160    2  \n",
       "158    3  \n",
       "289    3  \n",
       "..   ...  \n",
       "100    2  \n",
       "49     2  \n",
       "300    3  \n",
       "194    2  \n",
       "131    2  \n",
       "\n",
       "[242 rows x 13 columns]"
      ]
     },
     "execution_count": 23,
     "metadata": {},
     "output_type": "execute_result"
    }
   ],
   "source": [
    "train_features"
   ]
  },
  {
   "cell_type": "code",
   "execution_count": 24,
   "id": "94e2f3f8",
   "metadata": {
    "execution": {
     "iopub.execute_input": "2022-01-26T10:10:10.115166Z",
     "iopub.status.busy": "2022-01-26T10:10:10.112800Z",
     "iopub.status.idle": "2022-01-26T10:10:10.136671Z",
     "shell.execute_reply": "2022-01-26T10:10:10.137241Z",
     "shell.execute_reply.started": "2022-01-26T09:48:12.771965Z"
    },
    "papermill": {
     "duration": 0.074989,
     "end_time": "2022-01-26T10:10:10.137412",
     "exception": false,
     "start_time": "2022-01-26T10:10:10.062423",
     "status": "completed"
    },
    "tags": []
   },
   "outputs": [
    {
     "data": {
      "text/html": [
       "<div>\n",
       "<style scoped>\n",
       "    .dataframe tbody tr th:only-of-type {\n",
       "        vertical-align: middle;\n",
       "    }\n",
       "\n",
       "    .dataframe tbody tr th {\n",
       "        vertical-align: top;\n",
       "    }\n",
       "\n",
       "    .dataframe thead th {\n",
       "        text-align: right;\n",
       "    }\n",
       "</style>\n",
       "<table border=\"1\" class=\"dataframe\">\n",
       "  <thead>\n",
       "    <tr style=\"text-align: right;\">\n",
       "      <th></th>\n",
       "      <th>age</th>\n",
       "      <th>sex</th>\n",
       "      <th>cp</th>\n",
       "      <th>trestbps</th>\n",
       "      <th>chol</th>\n",
       "      <th>fbs</th>\n",
       "      <th>restecg</th>\n",
       "      <th>thalach</th>\n",
       "      <th>exang</th>\n",
       "      <th>oldpeak</th>\n",
       "      <th>slope</th>\n",
       "      <th>ca</th>\n",
       "      <th>thal</th>\n",
       "    </tr>\n",
       "  </thead>\n",
       "  <tbody>\n",
       "    <tr>\n",
       "      <th>255</th>\n",
       "      <td>45</td>\n",
       "      <td>1</td>\n",
       "      <td>0</td>\n",
       "      <td>142</td>\n",
       "      <td>309</td>\n",
       "      <td>0</td>\n",
       "      <td>0</td>\n",
       "      <td>147</td>\n",
       "      <td>1</td>\n",
       "      <td>0.0</td>\n",
       "      <td>1</td>\n",
       "      <td>3</td>\n",
       "      <td>3</td>\n",
       "    </tr>\n",
       "    <tr>\n",
       "      <th>72</th>\n",
       "      <td>29</td>\n",
       "      <td>1</td>\n",
       "      <td>1</td>\n",
       "      <td>130</td>\n",
       "      <td>204</td>\n",
       "      <td>0</td>\n",
       "      <td>0</td>\n",
       "      <td>202</td>\n",
       "      <td>0</td>\n",
       "      <td>0.0</td>\n",
       "      <td>2</td>\n",
       "      <td>0</td>\n",
       "      <td>2</td>\n",
       "    </tr>\n",
       "    <tr>\n",
       "      <th>83</th>\n",
       "      <td>52</td>\n",
       "      <td>1</td>\n",
       "      <td>3</td>\n",
       "      <td>152</td>\n",
       "      <td>298</td>\n",
       "      <td>1</td>\n",
       "      <td>1</td>\n",
       "      <td>178</td>\n",
       "      <td>0</td>\n",
       "      <td>1.2</td>\n",
       "      <td>1</td>\n",
       "      <td>0</td>\n",
       "      <td>3</td>\n",
       "    </tr>\n",
       "    <tr>\n",
       "      <th>268</th>\n",
       "      <td>54</td>\n",
       "      <td>1</td>\n",
       "      <td>0</td>\n",
       "      <td>122</td>\n",
       "      <td>286</td>\n",
       "      <td>0</td>\n",
       "      <td>0</td>\n",
       "      <td>116</td>\n",
       "      <td>1</td>\n",
       "      <td>3.2</td>\n",
       "      <td>1</td>\n",
       "      <td>2</td>\n",
       "      <td>2</td>\n",
       "    </tr>\n",
       "    <tr>\n",
       "      <th>92</th>\n",
       "      <td>52</td>\n",
       "      <td>1</td>\n",
       "      <td>2</td>\n",
       "      <td>138</td>\n",
       "      <td>223</td>\n",
       "      <td>0</td>\n",
       "      <td>1</td>\n",
       "      <td>169</td>\n",
       "      <td>0</td>\n",
       "      <td>0.0</td>\n",
       "      <td>2</td>\n",
       "      <td>4</td>\n",
       "      <td>2</td>\n",
       "    </tr>\n",
       "    <tr>\n",
       "      <th>...</th>\n",
       "      <td>...</td>\n",
       "      <td>...</td>\n",
       "      <td>...</td>\n",
       "      <td>...</td>\n",
       "      <td>...</td>\n",
       "      <td>...</td>\n",
       "      <td>...</td>\n",
       "      <td>...</td>\n",
       "      <td>...</td>\n",
       "      <td>...</td>\n",
       "      <td>...</td>\n",
       "      <td>...</td>\n",
       "      <td>...</td>\n",
       "    </tr>\n",
       "    <tr>\n",
       "      <th>42</th>\n",
       "      <td>45</td>\n",
       "      <td>1</td>\n",
       "      <td>0</td>\n",
       "      <td>104</td>\n",
       "      <td>208</td>\n",
       "      <td>0</td>\n",
       "      <td>0</td>\n",
       "      <td>148</td>\n",
       "      <td>1</td>\n",
       "      <td>3.0</td>\n",
       "      <td>1</td>\n",
       "      <td>0</td>\n",
       "      <td>2</td>\n",
       "    </tr>\n",
       "    <tr>\n",
       "      <th>187</th>\n",
       "      <td>54</td>\n",
       "      <td>1</td>\n",
       "      <td>0</td>\n",
       "      <td>124</td>\n",
       "      <td>266</td>\n",
       "      <td>0</td>\n",
       "      <td>0</td>\n",
       "      <td>109</td>\n",
       "      <td>1</td>\n",
       "      <td>2.2</td>\n",
       "      <td>1</td>\n",
       "      <td>1</td>\n",
       "      <td>3</td>\n",
       "    </tr>\n",
       "    <tr>\n",
       "      <th>8</th>\n",
       "      <td>52</td>\n",
       "      <td>1</td>\n",
       "      <td>2</td>\n",
       "      <td>172</td>\n",
       "      <td>199</td>\n",
       "      <td>1</td>\n",
       "      <td>1</td>\n",
       "      <td>162</td>\n",
       "      <td>0</td>\n",
       "      <td>0.5</td>\n",
       "      <td>2</td>\n",
       "      <td>0</td>\n",
       "      <td>3</td>\n",
       "    </tr>\n",
       "    <tr>\n",
       "      <th>122</th>\n",
       "      <td>41</td>\n",
       "      <td>0</td>\n",
       "      <td>2</td>\n",
       "      <td>112</td>\n",
       "      <td>268</td>\n",
       "      <td>0</td>\n",
       "      <td>0</td>\n",
       "      <td>172</td>\n",
       "      <td>1</td>\n",
       "      <td>0.0</td>\n",
       "      <td>2</td>\n",
       "      <td>0</td>\n",
       "      <td>2</td>\n",
       "    </tr>\n",
       "    <tr>\n",
       "      <th>19</th>\n",
       "      <td>69</td>\n",
       "      <td>0</td>\n",
       "      <td>3</td>\n",
       "      <td>140</td>\n",
       "      <td>239</td>\n",
       "      <td>0</td>\n",
       "      <td>1</td>\n",
       "      <td>151</td>\n",
       "      <td>0</td>\n",
       "      <td>1.8</td>\n",
       "      <td>2</td>\n",
       "      <td>2</td>\n",
       "      <td>2</td>\n",
       "    </tr>\n",
       "  </tbody>\n",
       "</table>\n",
       "<p>61 rows × 13 columns</p>\n",
       "</div>"
      ],
      "text/plain": [
       "     age sex cp  trestbps  chol fbs restecg  thalach exang  oldpeak slope ca  \\\n",
       "255   45   1  0       142   309   0       0      147     1      0.0     1  3   \n",
       "72    29   1  1       130   204   0       0      202     0      0.0     2  0   \n",
       "83    52   1  3       152   298   1       1      178     0      1.2     1  0   \n",
       "268   54   1  0       122   286   0       0      116     1      3.2     1  2   \n",
       "92    52   1  2       138   223   0       1      169     0      0.0     2  4   \n",
       "..   ...  .. ..       ...   ...  ..     ...      ...   ...      ...   ... ..   \n",
       "42    45   1  0       104   208   0       0      148     1      3.0     1  0   \n",
       "187   54   1  0       124   266   0       0      109     1      2.2     1  1   \n",
       "8     52   1  2       172   199   1       1      162     0      0.5     2  0   \n",
       "122   41   0  2       112   268   0       0      172     1      0.0     2  0   \n",
       "19    69   0  3       140   239   0       1      151     0      1.8     2  2   \n",
       "\n",
       "    thal  \n",
       "255    3  \n",
       "72     2  \n",
       "83     3  \n",
       "268    2  \n",
       "92     2  \n",
       "..   ...  \n",
       "42     2  \n",
       "187    3  \n",
       "8      3  \n",
       "122    2  \n",
       "19     2  \n",
       "\n",
       "[61 rows x 13 columns]"
      ]
     },
     "execution_count": 24,
     "metadata": {},
     "output_type": "execute_result"
    }
   ],
   "source": [
    "test_features"
   ]
  },
  {
   "cell_type": "code",
   "execution_count": 25,
   "id": "70cc52ce",
   "metadata": {
    "execution": {
     "iopub.execute_input": "2022-01-26T10:10:10.242757Z",
     "iopub.status.busy": "2022-01-26T10:10:10.241685Z",
     "iopub.status.idle": "2022-01-26T10:10:10.252117Z",
     "shell.execute_reply": "2022-01-26T10:10:10.251520Z",
     "shell.execute_reply.started": "2022-01-26T09:48:52.088431Z"
    },
    "papermill": {
     "duration": 0.068151,
     "end_time": "2022-01-26T10:10:10.252262",
     "exception": false,
     "start_time": "2022-01-26T10:10:10.184111",
     "status": "completed"
    },
    "tags": []
   },
   "outputs": [
    {
     "name": "stdout",
     "output_type": "stream",
     "text": [
      "<class 'pandas.core.frame.DataFrame'>\n",
      "Int64Index: 61 entries, 255 to 19\n",
      "Data columns (total 13 columns):\n",
      " #   Column    Non-Null Count  Dtype   \n",
      "---  ------    --------------  -----   \n",
      " 0   age       61 non-null     int64   \n",
      " 1   sex       61 non-null     category\n",
      " 2   cp        61 non-null     category\n",
      " 3   trestbps  61 non-null     int64   \n",
      " 4   chol      61 non-null     int64   \n",
      " 5   fbs       61 non-null     category\n",
      " 6   restecg   61 non-null     category\n",
      " 7   thalach   61 non-null     int64   \n",
      " 8   exang     61 non-null     category\n",
      " 9   oldpeak   61 non-null     float64 \n",
      " 10  slope     61 non-null     category\n",
      " 11  ca        61 non-null     category\n",
      " 12  thal      61 non-null     category\n",
      "dtypes: category(8), float64(1), int64(4)\n",
      "memory usage: 4.6 KB\n"
     ]
    }
   ],
   "source": [
    "test_features.info()"
   ]
  },
  {
   "cell_type": "markdown",
   "id": "e8a40df0",
   "metadata": {
    "papermill": {
     "duration": 0.046438,
     "end_time": "2022-01-26T10:10:10.347008",
     "exception": false,
     "start_time": "2022-01-26T10:10:10.300570",
     "status": "completed"
    },
    "tags": []
   },
   "source": [
    "## Model Training\n",
    "\n",
    "_____________________________"
   ]
  },
  {
   "cell_type": "code",
   "execution_count": 26,
   "id": "f2dda464",
   "metadata": {
    "execution": {
     "iopub.execute_input": "2022-01-26T10:10:10.443776Z",
     "iopub.status.busy": "2022-01-26T10:10:10.443132Z",
     "iopub.status.idle": "2022-01-26T10:10:10.446688Z",
     "shell.execute_reply": "2022-01-26T10:10:10.447199Z",
     "shell.execute_reply.started": "2022-01-26T09:49:05.830939Z"
    },
    "papermill": {
     "duration": 0.053218,
     "end_time": "2022-01-26T10:10:10.447369",
     "exception": false,
     "start_time": "2022-01-26T10:10:10.394151",
     "status": "completed"
    },
    "tags": []
   },
   "outputs": [],
   "source": [
    "model = LogisticRegression(solver='liblinear')"
   ]
  },
  {
   "cell_type": "code",
   "execution_count": 27,
   "id": "cd38a1f1",
   "metadata": {
    "execution": {
     "iopub.execute_input": "2022-01-26T10:10:10.545365Z",
     "iopub.status.busy": "2022-01-26T10:10:10.544681Z",
     "iopub.status.idle": "2022-01-26T10:10:10.552833Z",
     "shell.execute_reply": "2022-01-26T10:10:10.553351Z",
     "shell.execute_reply.started": "2022-01-26T09:49:07.732618Z"
    },
    "papermill": {
     "duration": 0.05859,
     "end_time": "2022-01-26T10:10:10.553539",
     "exception": false,
     "start_time": "2022-01-26T10:10:10.494949",
     "status": "completed"
    },
    "tags": []
   },
   "outputs": [],
   "source": [
    "model.fit(train_features, train_labels);"
   ]
  },
  {
   "cell_type": "markdown",
   "id": "7f9fed2c",
   "metadata": {
    "papermill": {
     "duration": 0.047016,
     "end_time": "2022-01-26T10:10:10.647701",
     "exception": false,
     "start_time": "2022-01-26T10:10:10.600685",
     "status": "completed"
    },
    "tags": []
   },
   "source": [
    "## Model Evaluation"
   ]
  },
  {
   "cell_type": "markdown",
   "id": "3aa2e2f7",
   "metadata": {
    "papermill": {
     "duration": 0.04674,
     "end_time": "2022-01-26T10:10:10.741632",
     "exception": false,
     "start_time": "2022-01-26T10:10:10.694892",
     "status": "completed"
    },
    "tags": []
   },
   "source": [
    "### Accuracy Score"
   ]
  },
  {
   "cell_type": "code",
   "execution_count": 28,
   "id": "d1d62b4c",
   "metadata": {
    "execution": {
     "iopub.execute_input": "2022-01-26T10:10:10.844113Z",
     "iopub.status.busy": "2022-01-26T10:10:10.843405Z",
     "iopub.status.idle": "2022-01-26T10:10:10.845986Z",
     "shell.execute_reply": "2022-01-26T10:10:10.846534Z",
     "shell.execute_reply.started": "2022-01-26T09:53:36.033303Z"
    },
    "papermill": {
     "duration": 0.057999,
     "end_time": "2022-01-26T10:10:10.846730",
     "exception": false,
     "start_time": "2022-01-26T10:10:10.788731",
     "status": "completed"
    },
    "tags": []
   },
   "outputs": [],
   "source": [
    "predictions = model.predict(train_features)"
   ]
  },
  {
   "cell_type": "code",
   "execution_count": 29,
   "id": "9728f4e1",
   "metadata": {
    "execution": {
     "iopub.execute_input": "2022-01-26T10:10:10.945220Z",
     "iopub.status.busy": "2022-01-26T10:10:10.944493Z",
     "iopub.status.idle": "2022-01-26T10:10:10.948840Z",
     "shell.execute_reply": "2022-01-26T10:10:10.949349Z",
     "shell.execute_reply.started": "2022-01-26T09:53:39.001320Z"
    },
    "papermill": {
     "duration": 0.055575,
     "end_time": "2022-01-26T10:10:10.949563",
     "exception": false,
     "start_time": "2022-01-26T10:10:10.893988",
     "status": "completed"
    },
    "tags": []
   },
   "outputs": [],
   "source": [
    "training_data_accuracy =  accuracy_score(predictions,train_labels)"
   ]
  },
  {
   "cell_type": "code",
   "execution_count": 30,
   "id": "5011e723",
   "metadata": {
    "execution": {
     "iopub.execute_input": "2022-01-26T10:10:11.050994Z",
     "iopub.status.busy": "2022-01-26T10:10:11.050337Z",
     "iopub.status.idle": "2022-01-26T10:10:11.055568Z",
     "shell.execute_reply": "2022-01-26T10:10:11.056100Z",
     "shell.execute_reply.started": "2022-01-26T09:53:41.364799Z"
    },
    "papermill": {
     "duration": 0.057722,
     "end_time": "2022-01-26T10:10:11.056267",
     "exception": false,
     "start_time": "2022-01-26T10:10:10.998545",
     "status": "completed"
    },
    "tags": []
   },
   "outputs": [
    {
     "data": {
      "text/plain": [
       "0.8553719008264463"
      ]
     },
     "execution_count": 30,
     "metadata": {},
     "output_type": "execute_result"
    }
   ],
   "source": [
    "training_data_accuracy"
   ]
  },
  {
   "cell_type": "code",
   "execution_count": 31,
   "id": "c481d64c",
   "metadata": {
    "execution": {
     "iopub.execute_input": "2022-01-26T10:10:11.158912Z",
     "iopub.status.busy": "2022-01-26T10:10:11.158262Z",
     "iopub.status.idle": "2022-01-26T10:10:11.164403Z",
     "shell.execute_reply": "2022-01-26T10:10:11.163752Z",
     "shell.execute_reply.started": "2022-01-26T09:55:27.549557Z"
    },
    "papermill": {
     "duration": 0.060103,
     "end_time": "2022-01-26T10:10:11.164564",
     "exception": false,
     "start_time": "2022-01-26T10:10:11.104461",
     "status": "completed"
    },
    "tags": []
   },
   "outputs": [
    {
     "data": {
      "text/plain": [
       "0.8032786885245902"
      ]
     },
     "execution_count": 31,
     "metadata": {},
     "output_type": "execute_result"
    }
   ],
   "source": [
    "predictions_test = model.predict(test_features)\n",
    "test_data_accuracy =  accuracy_score(predictions_test,test_labels)\n",
    "test_data_accuracy"
   ]
  },
  {
   "cell_type": "markdown",
   "id": "c9bbe8a5",
   "metadata": {
    "papermill": {
     "duration": 0.047662,
     "end_time": "2022-01-26T10:10:11.260277",
     "exception": false,
     "start_time": "2022-01-26T10:10:11.212615",
     "status": "completed"
    },
    "tags": []
   },
   "source": [
    "## Building a Predictive System"
   ]
  },
  {
   "cell_type": "code",
   "execution_count": 32,
   "id": "c45e098f",
   "metadata": {
    "execution": {
     "iopub.execute_input": "2022-01-26T10:10:11.364892Z",
     "iopub.status.busy": "2022-01-26T10:10:11.364223Z",
     "iopub.status.idle": "2022-01-26T10:10:11.367811Z",
     "shell.execute_reply": "2022-01-26T10:10:11.367276Z",
     "shell.execute_reply.started": "2022-01-26T10:04:57.439882Z"
    },
    "papermill": {
     "duration": 0.058076,
     "end_time": "2022-01-26T10:10:11.367976",
     "exception": false,
     "start_time": "2022-01-26T10:10:11.309900",
     "status": "completed"
    },
    "tags": []
   },
   "outputs": [
    {
     "name": "stdout",
     "output_type": "stream",
     "text": [
      "The pesron has at that point chances of heart risk.\n"
     ]
    }
   ],
   "source": [
    "input_data=(37,1,2,130,250,0,1,187,0,3.5,0,0,2)\n",
    "\n",
    "input_data_as_numpy_array=np.asarray(input_data)\n",
    "\n",
    "input_data_as_numpy_array_reshaped = input_data_as_numpy_array.reshape(1,-1)\n",
    "\n",
    "prediction = model.predict(input_data_as_numpy_array_reshaped)\n",
    "\n",
    "prediction\n",
    "\n",
    "if (prediction[0]==0):\n",
    "    print('The pesron has at that point less chances of heart risk.')\n",
    "else:\n",
    "    print('The pesron has at that point chances of heart risk.')\n"
   ]
  }
 ],
 "metadata": {
  "kernelspec": {
   "display_name": "Python 3",
   "language": "python",
   "name": "python3"
  },
  "language_info": {
   "codemirror_mode": {
    "name": "ipython",
    "version": 3
   },
   "file_extension": ".py",
   "mimetype": "text/x-python",
   "name": "python",
   "nbconvert_exporter": "python",
   "pygments_lexer": "ipython3",
   "version": "3.7.12"
  },
  "papermill": {
   "default_parameters": {},
   "duration": 20.295972,
   "end_time": "2022-01-26T10:10:12.226542",
   "environment_variables": {},
   "exception": null,
   "input_path": "__notebook__.ipynb",
   "output_path": "__notebook__.ipynb",
   "parameters": {},
   "start_time": "2022-01-26T10:09:51.930570",
   "version": "2.3.3"
  }
 },
 "nbformat": 4,
 "nbformat_minor": 5
}
